{
 "cells": [
  {
   "cell_type": "code",
   "execution_count": 2,
   "metadata": {},
   "outputs": [],
   "source": [
    "import pandas as pd\n",
    "from pyspark.sql import SparkSession\n",
    "from pyspark.sql.functions import col, sum, avg, count\n",
    "import matplotlib.pyplot as plt\n",
    "import seaborn as sns"
   ]
  },
  {
   "cell_type": "code",
   "execution_count": 3,
   "metadata": {},
   "outputs": [],
   "source": [
    "# Initialize Spark Session\n",
    "spark = SparkSession.builder.appName(\"TelcoChurnAnalysis\").getOrCreate()\n"
   ]
  },
  {
   "cell_type": "code",
   "execution_count": 4,
   "metadata": {},
   "outputs": [],
   "source": [
    "\n",
    "# Load dataset\n",
    "file_path = \"telco_churn.csv\"\n",
    "df = pd.read_csv(file_path)"
   ]
  },
  {
   "cell_type": "code",
   "execution_count": 5,
   "metadata": {},
   "outputs": [
    {
     "name": "stdout",
     "output_type": "stream",
     "text": [
      "Dataset Info:\n",
      "<class 'pandas.core.frame.DataFrame'>\n",
      "RangeIndex: 5043 entries, 0 to 5042\n",
      "Data columns (total 22 columns):\n",
      " #   Column            Non-Null Count  Dtype  \n",
      "---  ------            --------------  -----  \n",
      " 0   Unnamed: 0        5043 non-null   int64  \n",
      " 1   customerID        5043 non-null   object \n",
      " 2   gender            5043 non-null   object \n",
      " 3   SeniorCitizen     5043 non-null   object \n",
      " 4   Partner           5043 non-null   object \n",
      " 5   Dependents        5043 non-null   object \n",
      " 6   tenure            5043 non-null   int64  \n",
      " 7   PhoneService      5043 non-null   object \n",
      " 8   MultipleLines     4774 non-null   object \n",
      " 9   InternetService   5043 non-null   object \n",
      " 10  OnlineSecurity    4392 non-null   object \n",
      " 11  OnlineBackup      4392 non-null   object \n",
      " 12  DeviceProtection  4392 non-null   object \n",
      " 13  TechSupport       4392 non-null   object \n",
      " 14  StreamingTV       4392 non-null   object \n",
      " 15  StreamingMovies   4392 non-null   object \n",
      " 16  Contract          5043 non-null   object \n",
      " 17  PaperlessBilling  5043 non-null   object \n",
      " 18  PaymentMethod     5043 non-null   object \n",
      " 19  MonthlyCharges    5043 non-null   float64\n",
      " 20  TotalCharges      5038 non-null   object \n",
      " 21  Churn             5042 non-null   object \n",
      "dtypes: float64(1), int64(2), object(19)\n",
      "memory usage: 866.9+ KB\n",
      "\n",
      "First 5 rows:\n",
      "   Unnamed: 0  customerID  gender SeniorCitizen Partner Dependents  tenure  \\\n",
      "0           0  7590-VHVEG  Female         False    True      False       1   \n",
      "1           1  5575-GNVDE    Male         False   False      False      34   \n",
      "2           2  3668-QPYBK    Male         False   False      False       2   \n",
      "3           3  7795-CFOCW    Male         False   False      False      45   \n",
      "4           4  9237-HQITU  Female         False   False      False       2   \n",
      "\n",
      "  PhoneService MultipleLines InternetService  ... DeviceProtection  \\\n",
      "0        False           NaN             DSL  ...            False   \n",
      "1         True         False             DSL  ...             True   \n",
      "2         True         False             DSL  ...            False   \n",
      "3        False           NaN             DSL  ...             True   \n",
      "4         True         False     Fiber optic  ...            False   \n",
      "\n",
      "  TechSupport StreamingTV StreamingMovies        Contract PaperlessBilling  \\\n",
      "0       False       False           False  Month-to-month             True   \n",
      "1       False       False           False        One year            False   \n",
      "2       False       False           False  Month-to-month             True   \n",
      "3        True       False           False        One year            False   \n",
      "4       False       False           False  Month-to-month             True   \n",
      "\n",
      "               PaymentMethod MonthlyCharges        TotalCharges  Churn  \n",
      "0           Electronic check      29.850000  29.850000381469727  False  \n",
      "1               Mailed check      56.950001              1889.5  False  \n",
      "2               Mailed check      53.849998   108.1500015258789   True  \n",
      "3  Bank transfer (automatic)      42.299999             1840.75  False  \n",
      "4           Electronic check      70.699997  151.64999389648438   True  \n",
      "\n",
      "[5 rows x 22 columns]\n"
     ]
    }
   ],
   "source": [
    "\n",
    "# Display basic information\n",
    "print(\"Dataset Info:\")\n",
    "df.info()\n",
    "print(\"\\nFirst 5 rows:\")\n",
    "print(df.head())"
   ]
  },
  {
   "cell_type": "code",
   "execution_count": 6,
   "metadata": {},
   "outputs": [
    {
     "name": "stdout",
     "output_type": "stream",
     "text": [
      "\n",
      "Missing Values:\n",
      "Unnamed: 0            0\n",
      "customerID            0\n",
      "gender                0\n",
      "SeniorCitizen         0\n",
      "Partner               0\n",
      "Dependents            0\n",
      "tenure                0\n",
      "PhoneService          0\n",
      "MultipleLines       269\n",
      "InternetService       0\n",
      "OnlineSecurity      651\n",
      "OnlineBackup        651\n",
      "DeviceProtection    651\n",
      "TechSupport         651\n",
      "StreamingTV         651\n",
      "StreamingMovies     651\n",
      "Contract              0\n",
      "PaperlessBilling      0\n",
      "PaymentMethod         0\n",
      "MonthlyCharges        0\n",
      "TotalCharges          5\n",
      "Churn                 1\n",
      "dtype: int64\n"
     ]
    }
   ],
   "source": [
    "\n",
    "# Check for missing values\n",
    "print(\"\\nMissing Values:\")\n",
    "print(df.isnull().sum())"
   ]
  },
  {
   "cell_type": "code",
   "execution_count": 7,
   "metadata": {},
   "outputs": [
    {
     "data": {
      "text/plain": [
       "'telco_churn_cleaned.csv'"
      ]
     },
     "execution_count": 7,
     "metadata": {},
     "output_type": "execute_result"
    }
   ],
   "source": [
    "import pandas as pd\n",
    "\n",
    "# Load the dataset\n",
    "file_path = \"telco_churn.csv\"\n",
    "df = pd.read_csv(file_path)\n",
    "\n",
    "# Drop duplicate CustomerID records\n",
    "if 'customerID' in df.columns:\n",
    "    df = df.drop_duplicates(subset='customerID', keep='first')\n",
    "\n",
    "# Fill missing values\n",
    "if 'MultipleLines' in df.columns:\n",
    "    df['MultipleLines'].fillna('No', inplace=True)\n",
    "\n",
    "for col in ['OnlineSecurity', 'OnlineBackup', 'DeviceProtection', 'TechSupport', 'StreamingTV', 'StreamingMovies']:\n",
    "    if col in df.columns:\n",
    "        df[col].fillna('No internet service', inplace=True)\n",
    "\n",
    "if 'TotalCharges' in df.columns:\n",
    "    df['TotalCharges'] = pd.to_numeric(df['TotalCharges'], errors='coerce')  # Convert to numeric\n",
    "    df['TotalCharges'].fillna(df['MonthlyCharges'] * df['tenure'], inplace=True)  # Estimate missing values\n",
    "\n",
    "if 'Churn' in df.columns:\n",
    "    df['Churn'].fillna(df['Churn'].mode()[0], inplace=True)\n",
    "    \n",
    "# Apply median imputation for TotalUsage if it exists in the dataset\n",
    "if 'TotalUsage' in df.columns:\n",
    "    df['TotalUsage'].fillna(df['TotalUsage'].median(), inplace=True)\n",
    "\n",
    "# Convert CallDuration and MonthlyCharges to numeric if they exist\n",
    "for col in ['CallDuration', 'MonthlyCharges']:\n",
    "    if col in df.columns:\n",
    "        df[col] = pd.to_numeric(df[col], errors='coerce')\n",
    "\n",
    "\n",
    "# Fix inconsistent data types\n",
    "if 'CallDuration' in df.columns:\n",
    "    df['CallDuration'] = pd.to_numeric(df['CallDuration'], errors='coerce')\n",
    "\n",
    "# Save the cleaned dataset\n",
    "cleaned_file_path = \"telco_churn_cleaned.csv\"\n",
    "df.to_csv(cleaned_file_path, index=False)\n",
    "\n",
    "cleaned_file_path\n"
   ]
  },
  {
   "cell_type": "code",
   "execution_count": 8,
   "metadata": {},
   "outputs": [
    {
     "name": "stdout",
     "output_type": "stream",
     "text": [
      "\n",
      "Missing Values:\n",
      "Unnamed: 0          0\n",
      "customerID          0\n",
      "gender              0\n",
      "SeniorCitizen       0\n",
      "Partner             0\n",
      "Dependents          0\n",
      "tenure              0\n",
      "PhoneService        0\n",
      "MultipleLines       0\n",
      "InternetService     0\n",
      "OnlineSecurity      0\n",
      "OnlineBackup        0\n",
      "DeviceProtection    0\n",
      "TechSupport         0\n",
      "StreamingTV         0\n",
      "StreamingMovies     0\n",
      "Contract            0\n",
      "PaperlessBilling    0\n",
      "PaymentMethod       0\n",
      "MonthlyCharges      0\n",
      "TotalCharges        0\n",
      "Churn               0\n",
      "dtype: int64\n"
     ]
    }
   ],
   "source": [
    "\n",
    "# Check for missing values\n",
    "print(\"\\nMissing Values:\")\n",
    "print(df.isnull().sum())"
   ]
  },
  {
   "cell_type": "code",
   "execution_count": 11,
   "metadata": {},
   "outputs": [
    {
     "data": {
      "text/html": [
       "<div>\n",
       "<style scoped>\n",
       "    .dataframe tbody tr th:only-of-type {\n",
       "        vertical-align: middle;\n",
       "    }\n",
       "\n",
       "    .dataframe tbody tr th {\n",
       "        vertical-align: top;\n",
       "    }\n",
       "\n",
       "    .dataframe thead th {\n",
       "        text-align: right;\n",
       "    }\n",
       "</style>\n",
       "<table border=\"1\" class=\"dataframe\">\n",
       "  <thead>\n",
       "    <tr style=\"text-align: right;\">\n",
       "      <th></th>\n",
       "      <th>Unnamed: 0</th>\n",
       "      <th>customerID</th>\n",
       "      <th>gender</th>\n",
       "      <th>SeniorCitizen</th>\n",
       "      <th>Partner</th>\n",
       "      <th>Dependents</th>\n",
       "      <th>tenure</th>\n",
       "      <th>PhoneService</th>\n",
       "      <th>MultipleLines</th>\n",
       "      <th>InternetService</th>\n",
       "      <th>...</th>\n",
       "      <th>DeviceProtection</th>\n",
       "      <th>TechSupport</th>\n",
       "      <th>StreamingTV</th>\n",
       "      <th>StreamingMovies</th>\n",
       "      <th>Contract</th>\n",
       "      <th>PaperlessBilling</th>\n",
       "      <th>PaymentMethod</th>\n",
       "      <th>MonthlyCharges</th>\n",
       "      <th>TotalCharges</th>\n",
       "      <th>Churn</th>\n",
       "    </tr>\n",
       "  </thead>\n",
       "  <tbody>\n",
       "    <tr>\n",
       "      <th>0</th>\n",
       "      <td>0</td>\n",
       "      <td>7590-VHVEG</td>\n",
       "      <td>Female</td>\n",
       "      <td>False</td>\n",
       "      <td>True</td>\n",
       "      <td>False</td>\n",
       "      <td>1</td>\n",
       "      <td>False</td>\n",
       "      <td>No</td>\n",
       "      <td>DSL</td>\n",
       "      <td>...</td>\n",
       "      <td>False</td>\n",
       "      <td>False</td>\n",
       "      <td>False</td>\n",
       "      <td>False</td>\n",
       "      <td>Month-to-month</td>\n",
       "      <td>True</td>\n",
       "      <td>Electronic check</td>\n",
       "      <td>29.850000</td>\n",
       "      <td>29.850000</td>\n",
       "      <td>False</td>\n",
       "    </tr>\n",
       "    <tr>\n",
       "      <th>1</th>\n",
       "      <td>1</td>\n",
       "      <td>5575-GNVDE</td>\n",
       "      <td>Male</td>\n",
       "      <td>False</td>\n",
       "      <td>False</td>\n",
       "      <td>False</td>\n",
       "      <td>34</td>\n",
       "      <td>True</td>\n",
       "      <td>False</td>\n",
       "      <td>DSL</td>\n",
       "      <td>...</td>\n",
       "      <td>True</td>\n",
       "      <td>False</td>\n",
       "      <td>False</td>\n",
       "      <td>False</td>\n",
       "      <td>One year</td>\n",
       "      <td>False</td>\n",
       "      <td>Mailed check</td>\n",
       "      <td>56.950001</td>\n",
       "      <td>1889.500000</td>\n",
       "      <td>False</td>\n",
       "    </tr>\n",
       "    <tr>\n",
       "      <th>2</th>\n",
       "      <td>2</td>\n",
       "      <td>3668-QPYBK</td>\n",
       "      <td>Male</td>\n",
       "      <td>False</td>\n",
       "      <td>False</td>\n",
       "      <td>False</td>\n",
       "      <td>2</td>\n",
       "      <td>True</td>\n",
       "      <td>False</td>\n",
       "      <td>DSL</td>\n",
       "      <td>...</td>\n",
       "      <td>False</td>\n",
       "      <td>False</td>\n",
       "      <td>False</td>\n",
       "      <td>False</td>\n",
       "      <td>Month-to-month</td>\n",
       "      <td>True</td>\n",
       "      <td>Mailed check</td>\n",
       "      <td>53.849998</td>\n",
       "      <td>108.150002</td>\n",
       "      <td>True</td>\n",
       "    </tr>\n",
       "    <tr>\n",
       "      <th>3</th>\n",
       "      <td>3</td>\n",
       "      <td>7795-CFOCW</td>\n",
       "      <td>Male</td>\n",
       "      <td>False</td>\n",
       "      <td>False</td>\n",
       "      <td>False</td>\n",
       "      <td>45</td>\n",
       "      <td>False</td>\n",
       "      <td>No</td>\n",
       "      <td>DSL</td>\n",
       "      <td>...</td>\n",
       "      <td>True</td>\n",
       "      <td>True</td>\n",
       "      <td>False</td>\n",
       "      <td>False</td>\n",
       "      <td>One year</td>\n",
       "      <td>False</td>\n",
       "      <td>Bank transfer (automatic)</td>\n",
       "      <td>42.299999</td>\n",
       "      <td>1840.750000</td>\n",
       "      <td>False</td>\n",
       "    </tr>\n",
       "    <tr>\n",
       "      <th>4</th>\n",
       "      <td>4</td>\n",
       "      <td>9237-HQITU</td>\n",
       "      <td>Female</td>\n",
       "      <td>False</td>\n",
       "      <td>False</td>\n",
       "      <td>False</td>\n",
       "      <td>2</td>\n",
       "      <td>True</td>\n",
       "      <td>False</td>\n",
       "      <td>Fiber optic</td>\n",
       "      <td>...</td>\n",
       "      <td>False</td>\n",
       "      <td>False</td>\n",
       "      <td>False</td>\n",
       "      <td>False</td>\n",
       "      <td>Month-to-month</td>\n",
       "      <td>True</td>\n",
       "      <td>Electronic check</td>\n",
       "      <td>70.699997</td>\n",
       "      <td>151.649994</td>\n",
       "      <td>True</td>\n",
       "    </tr>\n",
       "    <tr>\n",
       "      <th>5</th>\n",
       "      <td>5</td>\n",
       "      <td>9305-CDSKC</td>\n",
       "      <td>Female</td>\n",
       "      <td>False</td>\n",
       "      <td>False</td>\n",
       "      <td>False</td>\n",
       "      <td>8</td>\n",
       "      <td>True</td>\n",
       "      <td>True</td>\n",
       "      <td>Fiber optic</td>\n",
       "      <td>...</td>\n",
       "      <td>True</td>\n",
       "      <td>False</td>\n",
       "      <td>True</td>\n",
       "      <td>True</td>\n",
       "      <td>Month-to-month</td>\n",
       "      <td>True</td>\n",
       "      <td>Electronic check</td>\n",
       "      <td>99.650002</td>\n",
       "      <td>820.500000</td>\n",
       "      <td>True</td>\n",
       "    </tr>\n",
       "    <tr>\n",
       "      <th>6</th>\n",
       "      <td>6</td>\n",
       "      <td>1452-KIOVK</td>\n",
       "      <td>Male</td>\n",
       "      <td>False</td>\n",
       "      <td>False</td>\n",
       "      <td>True</td>\n",
       "      <td>22</td>\n",
       "      <td>True</td>\n",
       "      <td>True</td>\n",
       "      <td>Fiber optic</td>\n",
       "      <td>...</td>\n",
       "      <td>False</td>\n",
       "      <td>False</td>\n",
       "      <td>True</td>\n",
       "      <td>False</td>\n",
       "      <td>Month-to-month</td>\n",
       "      <td>True</td>\n",
       "      <td>Credit card (automatic)</td>\n",
       "      <td>89.099998</td>\n",
       "      <td>1949.400024</td>\n",
       "      <td>False</td>\n",
       "    </tr>\n",
       "  </tbody>\n",
       "</table>\n",
       "<p>7 rows × 22 columns</p>\n",
       "</div>"
      ],
      "text/plain": [
       "   Unnamed: 0  customerID  gender SeniorCitizen Partner Dependents  tenure  \\\n",
       "0           0  7590-VHVEG  Female         False    True      False       1   \n",
       "1           1  5575-GNVDE    Male         False   False      False      34   \n",
       "2           2  3668-QPYBK    Male         False   False      False       2   \n",
       "3           3  7795-CFOCW    Male         False   False      False      45   \n",
       "4           4  9237-HQITU  Female         False   False      False       2   \n",
       "5           5  9305-CDSKC  Female         False   False      False       8   \n",
       "6           6  1452-KIOVK    Male         False   False       True      22   \n",
       "\n",
       "  PhoneService MultipleLines InternetService  ... DeviceProtection  \\\n",
       "0        False            No             DSL  ...            False   \n",
       "1         True         False             DSL  ...             True   \n",
       "2         True         False             DSL  ...            False   \n",
       "3        False            No             DSL  ...             True   \n",
       "4         True         False     Fiber optic  ...            False   \n",
       "5         True          True     Fiber optic  ...             True   \n",
       "6         True          True     Fiber optic  ...            False   \n",
       "\n",
       "  TechSupport StreamingTV StreamingMovies        Contract PaperlessBilling  \\\n",
       "0       False       False           False  Month-to-month             True   \n",
       "1       False       False           False        One year            False   \n",
       "2       False       False           False  Month-to-month             True   \n",
       "3        True       False           False        One year            False   \n",
       "4       False       False           False  Month-to-month             True   \n",
       "5       False        True            True  Month-to-month             True   \n",
       "6       False        True           False  Month-to-month             True   \n",
       "\n",
       "               PaymentMethod MonthlyCharges TotalCharges  Churn  \n",
       "0           Electronic check      29.850000    29.850000  False  \n",
       "1               Mailed check      56.950001  1889.500000  False  \n",
       "2               Mailed check      53.849998   108.150002   True  \n",
       "3  Bank transfer (automatic)      42.299999  1840.750000  False  \n",
       "4           Electronic check      70.699997   151.649994   True  \n",
       "5           Electronic check      99.650002   820.500000   True  \n",
       "6    Credit card (automatic)      89.099998  1949.400024  False  \n",
       "\n",
       "[7 rows x 22 columns]"
      ]
     },
     "execution_count": 11,
     "metadata": {},
     "output_type": "execute_result"
    }
   ],
   "source": [
    "df.head(7)\n"
   ]
  },
  {
   "cell_type": "code",
   "execution_count": 7,
   "metadata": {},
   "outputs": [
    {
     "name": "stdout",
     "output_type": "stream",
     "text": [
      "<class 'pandas.core.frame.DataFrame'>\n",
      "RangeIndex: 5043 entries, 0 to 5042\n",
      "Data columns (total 22 columns):\n",
      " #   Column            Non-Null Count  Dtype  \n",
      "---  ------            --------------  -----  \n",
      " 0   Unnamed: 0        5043 non-null   int64  \n",
      " 1   customerID        5043 non-null   object \n",
      " 2   gender            5043 non-null   object \n",
      " 3   SeniorCitizen     5043 non-null   object \n",
      " 4   Partner           5043 non-null   object \n",
      " 5   Dependents        5043 non-null   object \n",
      " 6   tenure            5043 non-null   int64  \n",
      " 7   PhoneService      5043 non-null   object \n",
      " 8   MultipleLines     4774 non-null   object \n",
      " 9   InternetService   5043 non-null   object \n",
      " 10  OnlineSecurity    4392 non-null   object \n",
      " 11  OnlineBackup      4392 non-null   object \n",
      " 12  DeviceProtection  4392 non-null   object \n",
      " 13  TechSupport       4392 non-null   object \n",
      " 14  StreamingTV       4392 non-null   object \n",
      " 15  StreamingMovies   4392 non-null   object \n",
      " 16  Contract          5043 non-null   object \n",
      " 17  PaperlessBilling  5043 non-null   object \n",
      " 18  PaymentMethod     5043 non-null   object \n",
      " 19  MonthlyCharges    5043 non-null   float64\n",
      " 20  TotalCharges      5038 non-null   object \n",
      " 21  Churn             5042 non-null   object \n",
      "dtypes: float64(1), int64(2), object(19)\n",
      "memory usage: 866.9+ KB\n"
     ]
    }
   ],
   "source": [
    "df.info()\n"
   ]
  },
  {
   "cell_type": "code",
   "execution_count": 8,
   "metadata": {},
   "outputs": [
    {
     "data": {
      "text/plain": [
       "Index(['Unnamed: 0', 'customerID', 'gender', 'SeniorCitizen', 'Partner',\n",
       "       'Dependents', 'tenure', 'PhoneService', 'MultipleLines',\n",
       "       'InternetService', 'OnlineSecurity', 'OnlineBackup', 'DeviceProtection',\n",
       "       'TechSupport', 'StreamingTV', 'StreamingMovies', 'Contract',\n",
       "       'PaperlessBilling', 'PaymentMethod', 'MonthlyCharges', 'TotalCharges',\n",
       "       'Churn'],\n",
       "      dtype='object')"
      ]
     },
     "execution_count": 8,
     "metadata": {},
     "output_type": "execute_result"
    }
   ],
   "source": [
    "#Checking for columns in the train dataset\n",
    "df.columns"
   ]
  },
  {
   "cell_type": "code",
   "execution_count": 9,
   "metadata": {},
   "outputs": [
    {
     "data": {
      "text/html": [
       "<div>\n",
       "<style scoped>\n",
       "    .dataframe tbody tr th:only-of-type {\n",
       "        vertical-align: middle;\n",
       "    }\n",
       "\n",
       "    .dataframe tbody tr th {\n",
       "        vertical-align: top;\n",
       "    }\n",
       "\n",
       "    .dataframe thead th {\n",
       "        text-align: right;\n",
       "    }\n",
       "</style>\n",
       "<table border=\"1\" class=\"dataframe\">\n",
       "  <thead>\n",
       "    <tr style=\"text-align: right;\">\n",
       "      <th></th>\n",
       "      <th>count</th>\n",
       "      <th>mean</th>\n",
       "      <th>std</th>\n",
       "      <th>min</th>\n",
       "      <th>25%</th>\n",
       "      <th>50%</th>\n",
       "      <th>75%</th>\n",
       "      <th>max</th>\n",
       "    </tr>\n",
       "  </thead>\n",
       "  <tbody>\n",
       "    <tr>\n",
       "      <th>Unnamed: 0</th>\n",
       "      <td>5043.0</td>\n",
       "      <td>1305.651993</td>\n",
       "      <td>801.484415</td>\n",
       "      <td>0.0</td>\n",
       "      <td>630.000</td>\n",
       "      <td>1260.000000</td>\n",
       "      <td>1890.500000</td>\n",
       "      <td>2999.000000</td>\n",
       "    </tr>\n",
       "    <tr>\n",
       "      <th>tenure</th>\n",
       "      <td>5043.0</td>\n",
       "      <td>32.576641</td>\n",
       "      <td>24.529807</td>\n",
       "      <td>0.0</td>\n",
       "      <td>9.000</td>\n",
       "      <td>29.000000</td>\n",
       "      <td>56.000000</td>\n",
       "      <td>72.000000</td>\n",
       "    </tr>\n",
       "    <tr>\n",
       "      <th>MonthlyCharges</th>\n",
       "      <td>5043.0</td>\n",
       "      <td>65.090214</td>\n",
       "      <td>30.068133</td>\n",
       "      <td>18.4</td>\n",
       "      <td>35.775</td>\n",
       "      <td>70.550003</td>\n",
       "      <td>90.050003</td>\n",
       "      <td>118.650002</td>\n",
       "    </tr>\n",
       "  </tbody>\n",
       "</table>\n",
       "</div>"
      ],
      "text/plain": [
       "                 count         mean         std   min      25%          50%  \\\n",
       "Unnamed: 0      5043.0  1305.651993  801.484415   0.0  630.000  1260.000000   \n",
       "tenure          5043.0    32.576641   24.529807   0.0    9.000    29.000000   \n",
       "MonthlyCharges  5043.0    65.090214   30.068133  18.4   35.775    70.550003   \n",
       "\n",
       "                        75%          max  \n",
       "Unnamed: 0      1890.500000  2999.000000  \n",
       "tenure            56.000000    72.000000  \n",
       "MonthlyCharges    90.050003   118.650002  "
      ]
     },
     "execution_count": 9,
     "metadata": {},
     "output_type": "execute_result"
    }
   ],
   "source": [
    "df.describe().transpose()"
   ]
  },
  {
   "cell_type": "code",
   "execution_count": 10,
   "metadata": {},
   "outputs": [
    {
     "name": "stdout",
     "output_type": "stream",
     "text": [
      "The categories in the OnlineSecurity column are: \n",
      "OnlineSecurity\n",
      "False                  1478\n",
      "No                     1029\n",
      "True                    871\n",
      "Yes                     585\n",
      "No internet service     429\n",
      "Name: count, dtype: int64\n",
      "\n",
      " The categories in the gender column are: \n",
      "gender\n",
      "Male      2559\n",
      "Female    2484\n",
      "Name: count, dtype: int64\n",
      "\n",
      " The columns in the SeniorCitizen column are: \n",
      "SeniorCitizen\n",
      "False    2525\n",
      "0        1699\n",
      "True      475\n",
      "1         344\n",
      "Name: count, dtype: int64\n",
      "\n",
      " The categories in the partner column are: \n",
      "Partner\n",
      "False    1538\n",
      "True     1462\n",
      "No       1047\n",
      "Yes       996\n",
      "Name: count, dtype: int64\n",
      "\n",
      " The categories in the paymentmethod column are: \n",
      "PaymentMethod\n",
      "Electronic check             1700\n",
      "Mailed check                 1128\n",
      "Bank transfer (automatic)    1125\n",
      "Credit card (automatic)      1090\n",
      "Name: count, dtype: int64\n",
      "\n",
      " The categories in the contract column are: \n",
      "Contract\n",
      "Month-to-month    2744\n",
      "Two year          1244\n",
      "One year          1055\n",
      "Name: count, dtype: int64\n",
      "\n",
      " The categories in the StreamingMovies column are: \n",
      "StreamingMovies\n",
      "True                   1199\n",
      "False                  1150\n",
      "No                      831\n",
      "Yes                     783\n",
      "No internet service     429\n",
      "Name: count, dtype: int64\n",
      "\n",
      " The categories in the Techsupport column are: \n",
      "TechSupport\n",
      "False                  1476\n",
      "No                      996\n",
      "True                    873\n",
      "Yes                     618\n",
      "No internet service     429\n",
      "Name: count, dtype: int64\n",
      "\n",
      " The categories in the paperless billing column are: \n",
      "PaperlessBilling\n",
      "True     1776\n",
      "False    1224\n",
      "Yes      1220\n",
      "No        823\n",
      "Name: count, dtype: int64\n",
      "\n",
      " The categories in the streamming tv column are: \n",
      "StreamingTV\n",
      "False                  1190\n",
      "True                   1159\n",
      "No                      828\n",
      "Yes                     786\n",
      "No internet service     429\n",
      "Name: count, dtype: int64\n",
      "\n",
      " The categories in the device protection column are: \n",
      "DeviceProtection\n",
      "False                  1296\n",
      "True                   1053\n",
      "No                      923\n",
      "Yes                     691\n",
      "No internet service     429\n",
      "Name: count, dtype: int64\n"
     ]
    }
   ],
   "source": [
    "#The number each of the categories occurs\n",
    "print('The categories in the OnlineSecurity column are: ')\n",
    "print(df['OnlineSecurity'].value_counts())\n",
    "\n",
    "print('\\n The categories in the gender column are: ')\n",
    "print(df['gender'].value_counts())\n",
    "\n",
    "print('\\n The columns in the SeniorCitizen column are: ')\n",
    "print(df['SeniorCitizen'].value_counts())\n",
    "\n",
    "print('\\n The categories in the partner column are: ')\n",
    "print(df['Partner'].value_counts())\n",
    "\n",
    "print('\\n The categories in the paymentmethod column are: ')\n",
    "print(df['PaymentMethod'].value_counts())\n",
    "\n",
    "print('\\n The categories in the contract column are: ')\n",
    "print(df['Contract'].value_counts())\n",
    "\n",
    "print('\\n The categories in the StreamingMovies column are: ')\n",
    "print(df['StreamingMovies'].value_counts())\n",
    "\n",
    "print('\\n The categories in the Techsupport column are: ')\n",
    "print(df['TechSupport'].value_counts())\n",
    "\n",
    "print('\\n The categories in the paperless billing column are: ')\n",
    "print(df['PaperlessBilling'].value_counts())\n",
    "\n",
    "print('\\n The categories in the streamming tv column are: ')\n",
    "print(df['StreamingTV'].value_counts())\n",
    "\n",
    "print('\\n The categories in the device protection column are: ')\n",
    "print(df['DeviceProtection'].value_counts())"
   ]
  },
  {
   "cell_type": "code",
   "execution_count": 11,
   "metadata": {},
   "outputs": [],
   "source": [
    "from pyspark.sql import SparkSession\n",
    "from pyspark.sql.functions import col, avg, count\n",
    "import time\n",
    "import psutil\n"
   ]
  },
  {
   "cell_type": "code",
   "execution_count": 12,
   "metadata": {},
   "outputs": [],
   "source": [
    "\n",
    "# Initialize Spark session\n",
    "spark = SparkSession.builder.appName(\"TelecomDataAnalysis\").getOrCreate()\n",
    "\n",
    "# Load data\n",
    "data_path = \"telco_churn.csv\"\n",
    "df = spark.read.csv(data_path, header=True, inferSchema=True)\n",
    "\n",
    "# Select three columns for analysis\n",
    "selected_columns = [\"tenure\", \"MonthlyCharges\", \"TotalCharges\"]\n",
    "df_selected = df.select(*selected_columns)\n",
    "\n",
    "# Function to measure execution time and CPU utilization\n",
    "def measure_performance(operation_func):\n",
    "    start_time = time.time()\n",
    "    cpu_before = psutil.cpu_percent(interval=None)\n",
    "    \n",
    "    result = operation_func()\n",
    "    result.show()\n",
    "    \n",
    "    cpu_after = psutil.cpu_percent(interval=None)\n",
    "    end_time = time.time()\n",
    "    \n",
    "    execution_time = end_time - start_time\n",
    "    cpu_usage = cpu_after - cpu_before\n",
    "    \n",
    "    print(f\"Execution Time: {execution_time:.4f} seconds\")\n",
    "    print(f\"CPU Utilization Change: {cpu_usage:.2f}%\")\n",
    "    \n",
    "    return result\n"
   ]
  },
  {
   "cell_type": "code",
   "execution_count": 13,
   "metadata": {},
   "outputs": [],
   "source": [
    "\n",
    "# Operation 1: Aggregation (Average of numerical columns)\n",
    "def aggregate():\n",
    "    return df_selected.agg(\n",
    "        avg(col(\"tenure\")),\n",
    "        avg(col(\"MonthlyCharges\")),\n",
    "        avg(col(\"TotalCharges\"))\n",
    "    )\n",
    "\n",
    "# Operation 2: Filtering (Customers with high charges)\n",
    "def filtering():\n",
    "    return df_selected.filter(col(\"MonthlyCharges\") > 80)\n",
    "\n",
    "# Operation 3: Transformation (Adding a new column with normalized charges)\n",
    "def transformation():\n",
    "    max_charge = df_selected.agg({\"MonthlyCharges\": \"max\"}).collect()[0][0]\n",
    "    return df_selected.withColumn(\"NormalizedCharges\", col(\"MonthlyCharges\") / max_charge)\n",
    "\n"
   ]
  },
  {
   "cell_type": "code",
   "execution_count": 14,
   "metadata": {},
   "outputs": [
    {
     "name": "stdout",
     "output_type": "stream",
     "text": [
      "Aggregation:\n",
      "+----------------+-------------------+------------------+\n",
      "|     avg(tenure)|avg(MonthlyCharges)| avg(TotalCharges)|\n",
      "+----------------+-------------------+------------------+\n",
      "|32.5766408883601|  65.09021416028149|2302.0628607304266|\n",
      "+----------------+-------------------+------------------+\n",
      "\n",
      "Execution Time: 1.1650 seconds\n",
      "CPU Utilization Change: 10.10%\n",
      "Filtering:\n",
      "+------+------------------+------------------+\n",
      "|tenure|    MonthlyCharges|      TotalCharges|\n",
      "+------+------------------+------------------+\n",
      "|     8|  99.6500015258789|             820.5|\n",
      "|    22|  89.0999984741211|1949.4000244140625|\n",
      "|    28|104.80000305175781| 3046.050048828125|\n",
      "|    58| 100.3499984741211|  5681.10009765625|\n",
      "|    49|103.69999694824219|   5036.2998046875|\n",
      "|    25|             105.5| 2686.050048828125|\n",
      "|    69|            113.25|  7895.14990234375|\n",
      "|    71|106.69999694824219|           7382.25|\n",
      "|    21| 90.05000305175781|1862.9000244140625|\n",
      "|    47|  99.3499984741211|  4749.14990234375|\n",
      "|    72|             90.25|   6369.4501953125|\n",
      "|    71|  96.3499984741211|   6766.9501953125|\n",
      "|     2|              95.5|181.64999389648438|\n",
      "|    72|  99.9000015258789|   7251.7001953125|\n",
      "|    34| 106.3499984741211|           3549.25|\n",
      "|    11|  97.8499984741211|1105.4000244140625|\n",
      "|    49|              84.5| 3906.699951171875|\n",
      "|     2|  80.6500015258789|144.14999389648438|\n",
      "|    43|             90.25|           3838.75|\n",
      "|    15|  99.0999984741211|1426.4000244140625|\n",
      "+------+------------------+------------------+\n",
      "only showing top 20 rows\n",
      "\n",
      "Execution Time: 0.2656 seconds\n",
      "CPU Utilization Change: 22.80%\n",
      "Transformation:\n",
      "+------+------------------+------------------+-------------------+\n",
      "|tenure|    MonthlyCharges|      TotalCharges|  NormalizedCharges|\n",
      "+------+------------------+------------------+-------------------+\n",
      "|     1|29.850000381469727|29.850000381469727|0.25158027810862776|\n",
      "|    34| 56.95000076293945|            1889.5|0.47998314395738134|\n",
      "|     2|53.849998474121094| 108.1500015258789|0.45385585993756433|\n",
      "|    45| 42.29999923706055|           1840.75| 0.3565107348762607|\n",
      "|     2| 70.69999694824219|151.64999389648438| 0.5958701731059121|\n",
      "|     8|  99.6500015258789|             820.5| 0.8398651516590508|\n",
      "|    22|  89.0999984741211|1949.4000244140625| 0.7509481443595883|\n",
      "|    10|             29.75| 301.8999938964844| 0.2507374599022756|\n",
      "|    28|104.80000305175781| 3046.050048828125|  0.883270136569697|\n",
      "|    62|56.150001525878906| 3487.949951171875| 0.4732406304574042|\n",
      "|    13| 49.95000076293945| 587.4500122070312|0.42098609456861064|\n",
      "|    16|18.950000762939453|326.79998779296875|0.15971344727548312|\n",
      "|    58| 100.3499984741211|  5681.10009765625| 0.8457648308772556|\n",
      "|    49|103.69999694824219|   5036.2998046875| 0.8739991202244026|\n",
      "|    25|             105.5| 2686.050048828125| 0.8891698157879017|\n",
      "|    69|            113.25|  7895.14990234375| 0.9544879776111835|\n",
      "|    52|20.649999618530273|1022.9500122070312| 0.1740412924817896|\n",
      "|    71|106.69999694824219|           7382.25| 0.8992835699624472|\n",
      "|    10| 55.20000076293945| 528.3499755859375| 0.4652338816101887|\n",
      "|    21| 90.05000305175781|1862.9000244140625| 0.7589549253576443|\n",
      "+------+------------------+------------------+-------------------+\n",
      "only showing top 20 rows\n",
      "\n",
      "Execution Time: 0.6726 seconds\n",
      "CPU Utilization Change: -80.60%\n"
     ]
    }
   ],
   "source": [
    "\n",
    "# Measure performance of operations\n",
    "print(\"Aggregation:\")\n",
    "measure_performance(aggregate)\n",
    "\n",
    "print(\"Filtering:\")\n",
    "measure_performance(filtering)\n",
    "\n",
    "print(\"Transformation:\")\n",
    "measure_performance(transformation)\n",
    "\n",
    "# Stop Spark session\n",
    "spark.stop()"
   ]
  },
  {
   "cell_type": "code",
   "execution_count": 18,
   "metadata": {},
   "outputs": [
    {
     "data": {
      "image/png": "[encoded data removed]",
      "text/plain": [
       "<Figure size 640x480 with 1 Axes>"
      ]
     },
     "metadata": {},
     "output_type": "display_data"
    }
   ],
   "source": [
    "\n",
    "# Exploratory Data Analysis (EDA)\n",
    "sns.countplot(x='Churn', data=df)\n",
    "plt.title(\"Customer Churn Distribution\")\n",
    "plt.show()"
   ]
  },
  {
   "cell_type": "code",
   "execution_count": null,
   "metadata": {},
   "outputs": [
    {
     "data": {
      "text/plain": [
       "<function matplotlib.pyplot.show(close=None, block=None)>"
      ]
     },
     "execution_count": 74,
     "metadata": {},
     "output_type": "execute_result"
    },
    {
     "data": {
      "image/png": "[encoded data removed]",
      "text/plain": [
       "<Figure size 1500x400 with 4 Axes>"
      ]
     },
     "metadata": {},
     "output_type": "display_data"
    }
   ],
   "source": [
    "df.hist(bins=50, figsize = (15,4))\n",
    "plt.show"
   ]
  },
  {
   "cell_type": "code",
   "execution_count": null,
   "metadata": {},
   "outputs": [
    {
     "data": {
      "image/png": "[encoded data removed]",
      "text/plain": [
       "<Figure size 1000x600 with 1 Axes>"
      ]
     },
     "metadata": {},
     "output_type": "display_data"
    }
   ],
   "source": [
    "plt.figure(figsize=(10, 6))\n",
    "sns.countplot(x='PaymentMethod', hue='Churn', data=df)\n",
    "plt.xlabel('Payment Method')\n",
    "plt.ylabel('Count')\n",
    "plt.title('Churn Rates by Payment Method')\n",
    "plt.show()"
   ]
  },
  {
   "cell_type": "markdown",
   "metadata": {},
   "source": [
    "Coorelation"
   ]
  },
  {
   "cell_type": "code",
   "execution_count": null,
   "metadata": {},
   "outputs": [
    {
     "data": {
      "image/png": "[encoded data removed]",
      "text/plain": [
       "<Figure size 1200x800 with 2 Axes>"
      ]
     },
     "metadata": {},
     "output_type": "display_data"
    }
   ],
   "source": [
    "import pandas as pd\n",
    "import seaborn as sns\n",
    "import matplotlib.pyplot as plt\n",
    "\n",
    "# Load dataset\n",
    "df = pd.read_csv('telco_churn.csv')\n",
    "\n",
    "# Select only numeric columns\n",
    "numeric_df = df.select_dtypes(include=['number'])\n",
    "\n",
    "# Compute the correlation matrix\n",
    "corr_matrix = numeric_df.corr()\n",
    "\n",
    "# Plot heatmap\n",
    "plt.figure(figsize=(12, 8))  # Adjust figure size for better readability\n",
    "sns.heatmap(corr_matrix, annot=True, cmap='coolwarm', fmt=\".2f\")\n",
    "plt.title(\"Correlation Heatmap\")\n",
    "plt.show()\n"
   ]
  },
  {
   "cell_type": "code",
   "execution_count": null,
   "metadata": {},
   "outputs": [
    {
     "data": {
      "image/png": "[encoded data removed]",
      "text/plain": [
       "<Figure size 640x480 with 1 Axes>"
      ]
     },
     "metadata": {},
     "output_type": "display_data"
    }
   ],
   "source": [
    "#Churn report based on the type of contract\n",
    "sns.countplot(x='Churn', data=df, hue='Contract')\n",
    "plt.show()"
   ]
  },
  {
   "cell_type": "code",
   "execution_count": null,
   "metadata": {},
   "outputs": [
    {
     "data": {
      "image/png": "[encoded data removed]",
      "text/plain": [
       "<Figure size 640x480 with 1 Axes>"
      ]
     },
     "metadata": {},
     "output_type": "display_data"
    }
   ],
   "source": [
    "#Churn report based on the payment method used\n",
    "sns.countplot(x='Churn', hue='PaymentMethod', data=df)\n",
    "plt.show()"
   ]
  },
  {
   "cell_type": "markdown",
   "metadata": {},
   "source": [
    "The graph shouls the different payment methods and whether they churned or not.\n",
    "\n"
   ]
  },
  {
   "cell_type": "code",
   "execution_count": null,
   "metadata": {},
   "outputs": [
    {
     "data": {
      "image/png": "[encoded data removed]",
      "text/plain": [
       "<Figure size 640x480 with 1 Axes>"
      ]
     },
     "metadata": {},
     "output_type": "display_data"
    }
   ],
   "source": [
    "#A stacked bar plot of Churn and Contract\n",
    "cross_tab = pd.crosstab(df['Contract'], df['Churn'])\n",
    "cross_tab.plot(kind='bar', stacked=True)\n",
    "plt.show()"
   ]
  },
  {
   "cell_type": "code",
   "execution_count": null,
   "metadata": {},
   "outputs": [
    {
     "name": "stdout",
     "output_type": "stream",
     "text": [
      "SeniorCitizen     0    1  False  True\n",
      "Churn                                \n",
      "False             0    0   1936   283\n",
      "No             1291  196      0     0\n",
      "True              0    0    588   192\n",
      "Yes             408  148      0     0\n"
     ]
    }
   ],
   "source": [
    "# Cross-tabulate Churn and SeniorCitizen\n",
    "cross_tab = pd.crosstab(df['Churn'], df['SeniorCitizen'])\n",
    "print(cross_tab)"
   ]
  },
  {
   "cell_type": "code",
   "execution_count": 19,
   "metadata": {},
   "outputs": [],
   "source": [
    "# Ensure column names have no spaces\n",
    "df.columns = df.columns.str.strip()\n",
    "\n",
    "# Check if 'customerID' exists before dropping\n",
    "if 'customerID' in df.columns:\n",
    "    df.drop('customerID', axis=1, inplace=True)\n",
    "else:\n",
    "    print(\"Column 'customerID' not found in dataset.\")\n"
   ]
  },
  {
   "cell_type": "code",
   "execution_count": 20,
   "metadata": {},
   "outputs": [
    {
     "name": "stdout",
     "output_type": "stream",
     "text": [
      "Index(['Unnamed: 0', 'gender', 'SeniorCitizen', 'Partner', 'Dependents',\n",
      "       'tenure', 'PhoneService', 'MultipleLines', 'InternetService',\n",
      "       'OnlineSecurity', 'OnlineBackup', 'DeviceProtection', 'TechSupport',\n",
      "       'StreamingTV', 'StreamingMovies', 'Contract', 'PaperlessBilling',\n",
      "       'PaymentMethod', 'MonthlyCharges', 'TotalCharges', 'Churn'],\n",
      "      dtype='object')\n"
     ]
    }
   ],
   "source": [
    "df.columns = df.columns.str.strip()  # Remove leading/trailing spaces\n",
    "print(df.columns)  # Check again\n"
   ]
  },
  {
   "cell_type": "code",
   "execution_count": 21,
   "metadata": {},
   "outputs": [
    {
     "name": "stderr",
     "output_type": "stream",
     "text": [
      "C:\\Users\\USER\\AppData\\Roaming\\Python\\Python311\\site-packages\\pyspark\\sql\\pandas\\conversion.py:485: FutureWarning: is_datetime64tz_dtype is deprecated and will be removed in a future version. Check `isinstance(dtype, pd.DatetimeTZDtype)` instead.\n",
      "  if should_localize and is_datetime64tz_dtype(s.dtype) and s.dt.tz is not None:\n"
     ]
    }
   ],
   "source": [
    "\n",
    "# Convert Pandas DataFrame to Spark DataFrame\n",
    "spark_df = spark.createDataFrame(df)\n"
   ]
  },
  {
   "cell_type": "code",
   "execution_count": 22,
   "metadata": {},
   "outputs": [
    {
     "name": "stdout",
     "output_type": "stream",
     "text": [
      "3.5.4\n"
     ]
    }
   ],
   "source": [
    "print(spark.version)\n"
   ]
  },
  {
   "cell_type": "code",
   "execution_count": null,
   "metadata": {},
   "outputs": [],
   "source": [
    "from pyspark.sql import SparkSession\n",
    "\n",
    "# Stop existing session\n",
    "spark.stop()\n",
    "\n",
    "# Start a new session with increased memory allocation\n",
    "spark = SparkSession.builder \\\n",
    "    .appName(\"TelcoAnalysis\") \\\n",
    "    .config(\"spark.driver.memory\", \"4g\") \\\n",
    "    .getOrCreate()\n"
   ]
  },
  {
   "cell_type": "code",
   "execution_count": null,
   "metadata": {},
   "outputs": [
    {
     "name": "stdout",
     "output_type": "stream",
     "text": [
      "root\n",
      " |-- Unnamed: 0: long (nullable = true)\n",
      " |-- customerID: string (nullable = true)\n",
      " |-- gender: string (nullable = true)\n",
      " |-- SeniorCitizen: string (nullable = true)\n",
      " |-- Partner: string (nullable = true)\n",
      " |-- Dependents: string (nullable = true)\n",
      " |-- tenure: long (nullable = true)\n",
      " |-- PhoneService: string (nullable = true)\n",
      " |-- MultipleLines: string (nullable = true)\n",
      " |-- InternetService: string (nullable = true)\n",
      " |-- OnlineSecurity: string (nullable = true)\n",
      " |-- OnlineBackup: string (nullable = true)\n",
      " |-- DeviceProtection: string (nullable = true)\n",
      " |-- TechSupport: string (nullable = true)\n",
      " |-- StreamingTV: string (nullable = true)\n",
      " |-- StreamingMovies: string (nullable = true)\n",
      " |-- Contract: string (nullable = true)\n",
      " |-- PaperlessBilling: string (nullable = true)\n",
      " |-- PaymentMethod: string (nullable = true)\n",
      " |-- MonthlyCharges: double (nullable = true)\n",
      " |-- TotalCharges: double (nullable = true)\n",
      " |-- Churn: string (nullable = true)\n",
      "\n"
     ]
    }
   ],
   "source": [
    "spark_df.printSchema()\n"
   ]
  },
  {
   "cell_type": "code",
   "execution_count": null,
   "metadata": {},
   "outputs": [],
   "source": [
    "from pyspark.sql.functions import col, when\n",
    "\n",
    "# Convert non-numeric values to null and cast column to double\n",
    "spark_df = spark_df.withColumn(\n",
    "    \"TotalCharges\",\n",
    "    when(col(\"TotalCharges\").rlike(\"^[0-9.]+$\"), col(\"TotalCharges\").cast(\"double\")).otherwise(None)\n",
    ")\n",
    "\n",
    "# Drop nulls\n",
    "spark_df = spark_df.na.drop(subset=[\"TotalCharges\"])\n"
   ]
  },
  {
   "cell_type": "code",
   "execution_count": null,
   "metadata": {},
   "outputs": [],
   "source": [
    "#Check If Spark is Running Properly\n",
    "from pyspark.sql import SparkSession\n",
    "\n",
    "# Stop existing session if any\n",
    "try:\n",
    "    spark.stop()\n",
    "except:\n",
    "    pass\n",
    "\n",
    "# Start a new session with increased memory allocation\n",
    "spark = SparkSession.builder \\\n",
    "    .appName(\"TelcoAnalysis\") \\\n",
    "    .config(\"spark.driver.memory\", \"4g\") \\\n",
    "    .getOrCreate()\n"
   ]
  },
  {
   "cell_type": "code",
   "execution_count": null,
   "metadata": {},
   "outputs": [],
   "source": [
    "spark_df = spark.read.csv(\"telco_churn.csv\", header=True, inferSchema=True)\n"
   ]
  },
  {
   "cell_type": "code",
   "execution_count": null,
   "metadata": {},
   "outputs": [
    {
     "name": "stdout",
     "output_type": "stream",
     "text": [
      "Spark Version: 3.5.4\n",
      "Total Rows: 5043\n"
     ]
    }
   ],
   "source": [
    "print(f\"Spark Version: {spark.version}\")\n",
    "print(f\"Total Rows: {spark_df.count()}\")\n"
   ]
  },
  {
   "cell_type": "code",
   "execution_count": null,
   "metadata": {},
   "outputs": [
    {
     "name": "stdout",
     "output_type": "stream",
     "text": [
      "root\n",
      " |-- _c0: integer (nullable = true)\n",
      " |-- customerID: string (nullable = true)\n",
      " |-- gender: string (nullable = true)\n",
      " |-- SeniorCitizen: string (nullable = true)\n",
      " |-- Partner: string (nullable = true)\n",
      " |-- Dependents: string (nullable = true)\n",
      " |-- tenure: integer (nullable = true)\n",
      " |-- PhoneService: string (nullable = true)\n",
      " |-- MultipleLines: string (nullable = true)\n",
      " |-- InternetService: string (nullable = true)\n",
      " |-- OnlineSecurity: string (nullable = true)\n",
      " |-- OnlineBackup: string (nullable = true)\n",
      " |-- DeviceProtection: string (nullable = true)\n",
      " |-- TechSupport: string (nullable = true)\n",
      " |-- StreamingTV: string (nullable = true)\n",
      " |-- StreamingMovies: string (nullable = true)\n",
      " |-- Contract: string (nullable = true)\n",
      " |-- PaperlessBilling: string (nullable = true)\n",
      " |-- PaymentMethod: string (nullable = true)\n",
      " |-- MonthlyCharges: double (nullable = true)\n",
      " |-- TotalCharges: string (nullable = true)\n",
      " |-- Churn: string (nullable = true)\n",
      "\n"
     ]
    }
   ],
   "source": [
    "spark_df.printSchema()\n"
   ]
  },
  {
   "cell_type": "code",
   "execution_count": null,
   "metadata": {},
   "outputs": [
    {
     "name": "stdout",
     "output_type": "stream",
     "text": [
      "Defaulting to user installation because normal site-packages is not writeable\n",
      "Requirement already satisfied: pyspark in c:\\users\\user\\appdata\\roaming\\python\\python311\\site-packages (3.5.4)\n",
      "Requirement already satisfied: py4j==0.10.9.7 in c:\\users\\user\\appdata\\roaming\\python\\python311\\site-packages (from pyspark) (0.10.9.7)\n",
      "Note: you may need to restart the kernel to use updated packages.\n"
     ]
    },
    {
     "name": "stderr",
     "output_type": "stream",
     "text": [
      "\n",
      "[notice] A new release of pip is available: 23.1.2 -> 25.0.1\n",
      "[notice] To update, run: python.exe -m pip install --upgrade pip\n"
     ]
    }
   ],
   "source": [
    "pip install --upgrade pyspark\n"
   ]
  },
  {
   "cell_type": "code",
   "execution_count": null,
   "metadata": {},
   "outputs": [
    {
     "name": "stdout",
     "output_type": "stream",
     "text": [
      "+----------+-----------------+\n",
      "|customerID|   TotalDataUsage|\n",
      "+----------+-----------------+\n",
      "|8984-HPEMB|118.6500015258789|\n",
      "|8199-ZLLSA|           118.35|\n",
      "|9924-JPRMC|            118.2|\n",
      "|9739-JLPQJ|            117.5|\n",
      "|6650-BWFRT|117.1500015258789|\n",
      "+----------+-----------------+\n",
      "only showing top 5 rows\n",
      "\n"
     ]
    }
   ],
   "source": [
    "# Finding most data-using customers\n",
    "spark_df.groupBy(\"customerID\").agg(sum(\"MonthlyCharges\").alias(\"TotalDataUsage\"))\\\n",
    "    .orderBy(col(\"TotalDataUsage\").desc()).show(5)\n"
   ]
  },
  {
   "cell_type": "code",
   "execution_count": null,
   "metadata": {},
   "outputs": [
    {
     "name": "stdout",
     "output_type": "stream",
     "text": [
      "+----------+--------------+\n",
      "|customerID|UsageFrequency|\n",
      "+----------+--------------+\n",
      "|3668-QPYBK|             1|\n",
      "|6234-RAAPL|             1|\n",
      "|1894-IGFSG|             1|\n",
      "|6982-SSHFK|             1|\n",
      "|5859-HZYLF|             1|\n",
      "+----------+--------------+\n",
      "only showing top 5 rows\n",
      "\n"
     ]
    }
   ],
   "source": [
    "\n",
    "\n",
    "# Finding frequently calling customers\n",
    "spark_df.groupBy(\"customerID\").agg(count(\"tenure\").alias(\"UsageFrequency\"))\\\n",
    "    .orderBy(col(\"UsageFrequency\").desc()).show(5)\n"
   ]
  },
  {
   "cell_type": "code",
   "execution_count": null,
   "metadata": {},
   "outputs": [
    {
     "name": "stdout",
     "output_type": "stream",
     "text": [
      "\n",
      "Hive Queries:\n",
      "SELECT customerID, TotalCharges FROM telco_churn WHERE Churn='Yes' ORDER BY TotalCharges DESC LIMIT 5;\n",
      "SELECT gender, COUNT(*) AS count FROM telco_churn GROUP BY gender;\n",
      "SELECT PaymentMethod, AVG(MonthlyCharges) AS AvgCharge FROM telco_churn GROUP BY PaymentMethod;\n",
      "SELECT SeniorCitizen, COUNT(*) FROM telco_churn GROUP BY SeniorCitizen;\n"
     ]
    }
   ],
   "source": [
    "\n",
    "# Hive Queries (Example SQL-like queries for data warehousing)\n",
    "queries = [\n",
    "    \"SELECT customerID, TotalCharges FROM telco_churn WHERE Churn='Yes' ORDER BY TotalCharges DESC LIMIT 5;\",\n",
    "    \"SELECT gender, COUNT(*) AS count FROM telco_churn GROUP BY gender;\",\n",
    "    \"SELECT PaymentMethod, AVG(MonthlyCharges) AS AvgCharge FROM telco_churn GROUP BY PaymentMethod;\",\n",
    "    \"SELECT SeniorCitizen, COUNT(*) FROM telco_churn GROUP BY SeniorCitizen;\"\n",
    "]\n",
    "\n",
    "print(\"\\nHive Queries:\")\n",
    "for query in queries:\n",
    "    print(query)\n"
   ]
  },
  {
   "cell_type": "markdown",
   "metadata": {},
   "source": [
    "DATA CLEANING"
   ]
  },
  {
   "cell_type": "code",
   "execution_count": null,
   "metadata": {},
   "outputs": [
    {
     "name": "stdout",
     "output_type": "stream",
     "text": [
      "Index(['gender', 'SeniorCitizen', 'Partner', 'Dependents', 'tenure',\n",
      "       'PhoneService', 'MultipleLines', 'InternetService', 'OnlineSecurity',\n",
      "       'OnlineBackup', 'DeviceProtection', 'TechSupport', 'StreamingTV',\n",
      "       'StreamingMovies', 'Contract', 'PaperlessBilling', 'PaymentMethod',\n",
      "       'MonthlyCharges', 'TotalCharges', 'Churn'],\n",
      "      dtype='object')\n"
     ]
    }
   ],
   "source": [
    "print(df.columns)  # List all column names\n"
   ]
  },
  {
   "cell_type": "code",
   "execution_count": null,
   "metadata": {},
   "outputs": [
    {
     "data": {
      "text/plain": [
       "array([0, 1])"
      ]
     },
     "execution_count": 101,
     "metadata": {},
     "output_type": "execute_result"
    }
   ],
   "source": [
    "# Check unique values in 'SeniorCitizen' to identify issues\n",
    "df['SeniorCitizen'].unique()\n"
   ]
  },
  {
   "cell_type": "code",
   "execution_count": null,
   "metadata": {},
   "outputs": [
    {
     "name": "stdout",
     "output_type": "stream",
     "text": [
      "   gender  SeniorCitizen Partner Dependents  tenure PhoneService  \\\n",
      "0  Female              0    True      False       1        False   \n",
      "1    Male              0   False      False      34         True   \n",
      "2    Male              0   False      False       2         True   \n",
      "3    Male              0   False      False      45        False   \n",
      "4  Female              0   False      False       2         True   \n",
      "\n",
      "  MultipleLines InternetService OnlineSecurity OnlineBackup DeviceProtection  \\\n",
      "0            No             DSL          False         True            False   \n",
      "1         False             DSL           True        False             True   \n",
      "2         False             DSL           True         True            False   \n",
      "3            No             DSL           True        False             True   \n",
      "4         False     Fiber optic          False        False            False   \n",
      "\n",
      "  TechSupport StreamingTV StreamingMovies        Contract PaperlessBilling  \\\n",
      "0       False       False           False  Month-to-month             True   \n",
      "1       False       False           False        One year            False   \n",
      "2       False       False           False  Month-to-month             True   \n",
      "3        True       False           False        One year            False   \n",
      "4       False       False           False  Month-to-month             True   \n",
      "\n",
      "               PaymentMethod  MonthlyCharges  TotalCharges  Churn  \n",
      "0           Electronic check       29.850000     29.850000    0.0  \n",
      "1               Mailed check       56.950001   1889.500000    0.0  \n",
      "2               Mailed check       53.849998    108.150002    1.0  \n",
      "3  Bank transfer (automatic)       42.299999   1840.750000    0.0  \n",
      "4           Electronic check       70.699997    151.649994    1.0  \n"
     ]
    }
   ],
   "source": [
    "import pandas as pd\n",
    "\n",
    "# Load dataset\n",
    "df = pd.read_csv(\"telco_churn.csv\")\n",
    "\n",
    "# Drop unnecessary columns\n",
    "df.drop(columns=[\"Unnamed: 0\", \"customerID\"], inplace=True, errors=\"ignore\")\n",
    "\n",
    "# Convert 'TotalCharges' to numeric, handling errors and filling missing values\n",
    "df[\"TotalCharges\"] = pd.to_numeric(df[\"TotalCharges\"], errors=\"coerce\").fillna(0)\n",
    "\n",
    "# Convert 'SeniorCitizen' from 'False'/'True' strings to numeric (0,1)\n",
    "df[\"SeniorCitizen\"] = df[\"SeniorCitizen\"].map({\"False\": 0, \"True\": 1, \"0\": 0, \"1\": 1}).astype(int)\n",
    "\n",
    "# Fill missing values in categorical columns with 'No'\n",
    "categorical_cols = [\"MultipleLines\", \"OnlineSecurity\", \"OnlineBackup\", \"DeviceProtection\", \n",
    "                    \"TechSupport\", \"StreamingTV\", \"StreamingMovies\"]\n",
    "df[categorical_cols] = df[categorical_cols].fillna(\"No\")\n",
    "\n",
    "# Convert 'Churn' column to numeric (0 = No, 1 = Yes)\n",
    "df[\"Churn\"] = df[\"Churn\"].map({\"False\": 0, \"True\": 1})\n",
    "\n",
    "# Remove duplicate rows if any\n",
    "df.drop_duplicates(inplace=True)\n",
    "\n",
    "# Save cleaned dataset\n",
    "df.to_csv(\"telco_churn_cleaned.csv\", index=False)\n",
    "\n",
    "# Display first few rows\n",
    "print(df.head())"
   ]
  },
  {
   "cell_type": "code",
   "execution_count": null,
   "metadata": {},
   "outputs": [
    {
     "data": {
      "text/plain": [
       "Index(['gender', 'SeniorCitizen', 'Partner', 'Dependents', 'tenure',\n",
       "       'PhoneService', 'MultipleLines', 'InternetService', 'OnlineSecurity',\n",
       "       'OnlineBackup', 'DeviceProtection', 'TechSupport', 'StreamingTV',\n",
       "       'StreamingMovies', 'Contract', 'PaperlessBilling', 'PaymentMethod',\n",
       "       'MonthlyCharges', 'TotalCharges', 'Churn'],\n",
       "      dtype='object')"
      ]
     },
     "execution_count": 104,
     "metadata": {},
     "output_type": "execute_result"
    }
   ],
   "source": [
    "#Columns in the test dataset\n",
    "df.columns"
   ]
  },
  {
   "cell_type": "code",
   "execution_count": null,
   "metadata": {},
   "outputs": [
    {
     "data": {
      "text/plain": [
       "0       False\n",
       "1       False\n",
       "2       False\n",
       "3        True\n",
       "4       False\n",
       "        ...  \n",
       "5038      Yes\n",
       "5039       No\n",
       "5040       No\n",
       "5041       No\n",
       "5042      Yes\n",
       "Name: TechSupport, Length: 5030, dtype: object"
      ]
     },
     "execution_count": 105,
     "metadata": {},
     "output_type": "execute_result"
    }
   ],
   "source": [
    "\n",
    "df['TechSupport']"
   ]
  },
  {
   "cell_type": "markdown",
   "metadata": {},
   "source": [
    "Random Forest"
   ]
  },
  {
   "cell_type": "code",
   "execution_count": 3,
   "metadata": {},
   "outputs": [],
   "source": [
    "import pandas as pd\n",
    "import numpy as np\n",
    "import seaborn as sns\n",
    "import matplotlib.pyplot as plt\n",
    "from sklearn.model_selection import train_test_split, GridSearchCV\n",
    "from sklearn.ensemble import RandomForestClassifier\n",
    "from sklearn.metrics import accuracy_score, classification_report, confusion_matrix\n"
   ]
  },
  {
   "cell_type": "code",
   "execution_count": 4,
   "metadata": {},
   "outputs": [],
   "source": [
    "\n",
    "# Load the cleaned dataset\n",
    "df = pd.read_csv(\"telco_churn_cleaned.csv\")\n",
    "\n",
    "# Drop rows where 'Churn' is NaN\n",
    "df = df.dropna(subset=[\"Churn\"])\n"
   ]
  },
  {
   "cell_type": "code",
   "execution_count": 5,
   "metadata": {},
   "outputs": [],
   "source": [
    "\n",
    "# Convert categorical features into dummy variables\n",
    "X = df.drop(columns=[\"Churn\"])\n",
    "X = pd.get_dummies(X, drop_first=True)  \n",
    "\n",
    "# Define target variable\n",
    "y = df[\"Churn\"]\n",
    "\n",
    "# Split dataset into training (80%) and testing (20%) sets\n",
    "X_train, X_test, y_train, y_test = train_test_split(X, y, test_size=0.2, random_state=42)\n",
    "\n",
    "# Initialize the Random Forest model\n",
    "rf_model = RandomForestClassifier(random_state=42)\n",
    "\n",
    "# Hyperparameter tuning using GridSearchCV\n",
    "param_grid = {\n",
    "    \"n_estimators\": [100, 200, 300],  \n",
    "    \"max_depth\": [10, 20, 30],  \n",
    "    \"min_samples_split\": [2, 5, 10],  \n",
    "    \"min_samples_leaf\": [1, 2, 4]\n",
    "}\n"
   ]
  },
  {
   "cell_type": "code",
   "execution_count": 6,
   "metadata": {},
   "outputs": [
    {
     "name": "stdout",
     "output_type": "stream",
     "text": [
      "Optimized Model Accuracy: 0.80\n",
      "\n",
      "Classification Report:\n",
      "              precision    recall  f1-score   support\n",
      "\n",
      "       False       0.83      0.96      0.89       450\n",
      "          No       0.78      0.93      0.85       284\n",
      "        True       0.79      0.44      0.56       156\n",
      "         Yes       0.70      0.37      0.48       119\n",
      "\n",
      "    accuracy                           0.80      1009\n",
      "   macro avg       0.77      0.67      0.70      1009\n",
      "weighted avg       0.79      0.80      0.78      1009\n",
      "\n"
     ]
    },
    {
     "data": {
      "image/png": "[encoded data removed]",
      "text/plain": [
       "<Figure size 600x400 with 2 Axes>"
      ]
     },
     "metadata": {},
     "output_type": "display_data"
    }
   ],
   "source": [
    "\n",
    "grid_search = GridSearchCV(rf_model, param_grid, cv=5, n_jobs=-1, scoring=\"accuracy\")\n",
    "grid_search.fit(X_train, y_train)\n",
    "\n",
    "# Best model after tuning\n",
    "best_rf_model = grid_search.best_estimator_\n",
    "\n",
    "# Train the best model on the full training set\n",
    "best_rf_model.fit(X_train, y_train)\n",
    "\n",
    "# Make predictions\n",
    "y_pred = best_rf_model.predict(X_test)\n",
    "\n",
    "# Evaluate model performance\n",
    "accuracy = accuracy_score(y_test, y_pred)\n",
    "print(f\"Optimized Model Accuracy: {accuracy:.2f}\")\n",
    "\n",
    "# Display classification report\n",
    "print(\"\\nClassification Report:\")\n",
    "print(classification_report(y_test, y_pred))\n",
    "\n",
    "# Plot confusion matrix\n",
    "plt.figure(figsize=(6,4))\n",
    "sns.heatmap(confusion_matrix(y_test, y_pred), annot=True, fmt=\"d\", cmap=\"Blues\")\n",
    "plt.xlabel(\"Predicted\")\n",
    "plt.ylabel(\"Actual\")\n",
    "plt.title(\"Confusion Matrix\")\n",
    "plt.show()\n"
   ]
  },
  {
   "cell_type": "code",
   "execution_count": null,
   "metadata": {},
   "outputs": [
    {
     "name": "stdout",
     "output_type": "stream",
     "text": [
      "Logistic Regression Accuracy: 0.81\n",
      "\n",
      "Classification Report:\n",
      "              precision    recall  f1-score   support\n",
      "\n",
      "         0.0       0.87      0.89      0.88       449\n",
      "         1.0       0.63      0.59      0.61       150\n",
      "\n",
      "    accuracy                           0.81       599\n",
      "   macro avg       0.75      0.74      0.74       599\n",
      "weighted avg       0.81      0.81      0.81       599\n",
      "\n"
     ]
    },
    {
     "data": {
      "image/png": "[encoded data removed]",
      "text/plain": [
       "<Figure size 600x400 with 2 Axes>"
      ]
     },
     "metadata": {},
     "output_type": "display_data"
    }
   ],
   "source": [
    "import pandas as pd\n",
    "import numpy as np\n",
    "import seaborn as sns\n",
    "import matplotlib.pyplot as plt\n",
    "from sklearn.model_selection import train_test_split\n",
    "from sklearn.linear_model import LogisticRegression\n",
    "from sklearn.metrics import accuracy_score, classification_report, confusion_matrix\n",
    "\n",
    "# Load dataset\n",
    "df = pd.read_csv(\"telco_churn_cleaned.csv\")\n",
    "\n",
    "# Drop rows where 'Churn' is NaN\n",
    "df = df.dropna(subset=[\"Churn\"])\n",
    "\n",
    "# Convert categorical features into dummy variables\n",
    "X = df.drop(columns=[\"Churn\"])\n",
    "X = pd.get_dummies(X, drop_first=True)  \n",
    "\n",
    "# Define target variable\n",
    "y = df[\"Churn\"]\n",
    "\n",
    "# Split dataset into training (80%) and testing (20%) sets\n",
    "X_train, X_test, y_train, y_test = train_test_split(X, y, test_size=0.2, random_state=42)\n",
    "\n",
    "# Initialize and train Logistic Regression model\n",
    "log_model = LogisticRegression(max_iter=1000, solver=\"liblinear\")\n",
    "log_model.fit(X_train, y_train)\n",
    "\n",
    "# Make predictions\n",
    "y_pred = log_model.predict(X_test)\n",
    "\n",
    "# Evaluate model performance\n",
    "accuracy = accuracy_score(y_test, y_pred)\n",
    "print(f\"Logistic Regression Accuracy: {accuracy:.2f}\")\n",
    "\n",
    "# Display classification report\n",
    "print(\"\\nClassification Report:\")\n",
    "print(classification_report(y_test, y_pred))\n",
    "\n",
    "# Plot confusion matrix\n",
    "plt.figure(figsize=(6,4))\n",
    "sns.heatmap(confusion_matrix(y_test, y_pred), annot=True, fmt=\"d\", cmap=\"Blues\")\n",
    "plt.xlabel(\"Predicted\")\n",
    "plt.ylabel(\"Actual\")\n",
    "plt.title(\"Confusion Matrix\")\n",
    "plt.show()\n"
   ]
  },
  {
   "cell_type": "code",
   "execution_count": null,
   "metadata": {},
   "outputs": [],
   "source": []
  },
  {
   "cell_type": "code",
   "execution_count": null,
   "metadata": {},
   "outputs": [],
   "source": []
  }
 ],
 "metadata": {
  "kernelspec": {
   "display_name": "Python 3",
   "language": "python",
   "name": "python3"
  },
  "language_info": {
   "codemirror_mode": {
    "name": "ipython",
    "version": 3
   },
   "file_extension": ".py",
   "mimetype": "text/x-python",
   "name": "python",
   "nbconvert_exporter": "python",
   "pygments_lexer": "ipython3",
   "version": "3.11.4"
  }
 },
 "nbformat": 4,
 "nbformat_minor": 2
}
